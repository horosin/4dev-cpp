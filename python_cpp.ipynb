{
 "cells": [
  {
   "cell_type": "markdown",
   "metadata": {
    "colab_type": "text",
    "id": "Fg50Gl-55HO3"
   },
   "source": [
    "# C++ modules for python"
   ]
  },
  {
   "cell_type": "markdown",
   "metadata": {
    "colab_type": "text",
    "id": "A-8yEUmX53ow"
   },
   "source": [
    "## Install notebook extension"
   ]
  },
  {
   "cell_type": "code",
   "execution_count": 1,
   "metadata": {
    "colab": {
     "base_uri": "https://localhost:8080/",
     "height": 382
    },
    "colab_type": "code",
    "id": "NgmocfnE5Ebm",
    "outputId": "b3856113-9ce4-4328-f659-2b699a734cc7"
   },
   "outputs": [
    {
     "name": "stdout",
     "output_type": "stream",
     "text": [
      "Collecting git+https://github.com/aldanor/ipybind.git\n",
      "  Cloning https://github.com/aldanor/ipybind.git to /private/var/folders/dw/n_k2m4591m10yc2s9ds5fckh0000gn/T/pip-req-build-pj8gamet\n",
      "Requirement already satisfied (use --upgrade to upgrade): ipybind==0.1.0 from git+https://github.com/aldanor/ipybind.git in /usr/local/lib/python3.6/site-packages\n",
      "Requirement already satisfied: pybind11 in /usr/local/lib/python3.6/site-packages (2.2.4)\n",
      "Requirement already satisfied: ipython in /usr/local/lib/python3.6/site-packages (from ipybind==0.1.0) (6.4.0)\n",
      "Requirement already satisfied: simplegeneric>0.8 in /usr/local/lib/python3.6/site-packages (from ipython->ipybind==0.1.0) (0.8.1)\n",
      "Requirement already satisfied: prompt-toolkit<2.0.0,>=1.0.15 in /usr/local/lib/python3.6/site-packages (from ipython->ipybind==0.1.0) (1.0.15)\n",
      "Requirement already satisfied: pickleshare in /usr/local/lib/python3.6/site-packages (from ipython->ipybind==0.1.0) (0.7.4)\n",
      "Requirement already satisfied: decorator in /usr/local/lib/python3.6/site-packages (from ipython->ipybind==0.1.0) (4.3.0)\n",
      "Requirement already satisfied: backcall in /usr/local/lib/python3.6/site-packages (from ipython->ipybind==0.1.0) (0.1.0)\n",
      "Requirement already satisfied: setuptools>=18.5 in /usr/local/lib/python3.6/site-packages (from ipython->ipybind==0.1.0) (39.2.0)\n",
      "Requirement already satisfied: traitlets>=4.2 in /usr/local/lib/python3.6/site-packages (from ipython->ipybind==0.1.0) (4.3.2)\n",
      "Requirement already satisfied: pygments in /usr/local/lib/python3.6/site-packages (from ipython->ipybind==0.1.0) (2.2.0)\n",
      "Requirement already satisfied: pexpect; sys_platform != \"win32\" in /usr/local/lib/python3.6/site-packages (from ipython->ipybind==0.1.0) (4.6.0)\n",
      "Requirement already satisfied: appnope; sys_platform == \"darwin\" in /usr/local/lib/python3.6/site-packages (from ipython->ipybind==0.1.0) (0.1.0)\n",
      "Requirement already satisfied: jedi>=0.10 in /usr/local/lib/python3.6/site-packages (from ipython->ipybind==0.1.0) (0.12.1)\n",
      "Requirement already satisfied: six>=1.9.0 in /Users/karol/Library/Python/3.6/lib/python/site-packages (from prompt-toolkit<2.0.0,>=1.0.15->ipython->ipybind==0.1.0) (1.11.0)\n",
      "Requirement already satisfied: wcwidth in /usr/local/lib/python3.6/site-packages (from prompt-toolkit<2.0.0,>=1.0.15->ipython->ipybind==0.1.0) (0.1.7)\n",
      "Requirement already satisfied: ipython-genutils in /usr/local/lib/python3.6/site-packages (from traitlets>=4.2->ipython->ipybind==0.1.0) (0.2.0)\n",
      "Requirement already satisfied: ptyprocess>=0.5 in /usr/local/lib/python3.6/site-packages (from pexpect; sys_platform != \"win32\"->ipython->ipybind==0.1.0) (0.6.0)\n",
      "Requirement already satisfied: parso>=0.3.0 in /usr/local/lib/python3.6/site-packages (from jedi>=0.10->ipython->ipybind==0.1.0) (0.3.1)\n",
      "Building wheels for collected packages: ipybind\n",
      "  Building wheel for ipybind (setup.py) ... \u001b[?25ldone\n",
      "\u001b[?25h  Stored in directory: /private/var/folders/dw/n_k2m4591m10yc2s9ds5fckh0000gn/T/pip-ephem-wheel-cache-xspbrwgo/wheels/83/38/0d/7f99ba92a5ac3a14b4427a33f4f05ffe827106a8a96f5b37af\n",
      "Successfully built ipybind\n"
     ]
    }
   ],
   "source": [
    "!pip install pybind11 git+https://github.com/aldanor/ipybind.git"
   ]
  },
  {
   "cell_type": "code",
   "execution_count": 2,
   "metadata": {
    "colab": {
     "base_uri": "https://localhost:8080/",
     "height": 52
    },
    "colab_type": "code",
    "id": "lCPIYc5_5uSk",
    "outputId": "296ade26-c483-4d53-c0a4-1a72dd7202b1"
   },
   "outputs": [
    {
     "data": {
      "application/javascript": [
       "\n",
       "    require(['notebook/js/codecell'], function(cc) {\n",
       "        cc.CodeCell.options_default.highlight_modes['magic_text/x-c++src'] =\n",
       "            {reg: [/^\\s*%%pybind11/]};\n",
       "    });\n",
       "    "
      ]
     },
     "metadata": {},
     "output_type": "display_data"
    },
    {
     "data": {
      "text/html": [
       "\n",
       "    <style>\n",
       "    .cm-s-ipython span.cm-variable-3 {\n",
       "        color: #208ffb;\n",
       "        font-weight: bold;\n",
       "    }\n",
       "    </style>\n",
       "    "
      ]
     },
     "metadata": {},
     "output_type": "display_data"
    }
   ],
   "source": [
    "%load_ext ipybind"
   ]
  },
  {
   "cell_type": "markdown",
   "metadata": {
    "colab_type": "text",
    "id": "_QAREhaz6BdW"
   },
   "source": [
    "## Simple example"
   ]
  },
  {
   "cell_type": "code",
   "execution_count": 3,
   "metadata": {
    "colab": {},
    "colab_type": "code",
    "id": "6ojqBvuU5_q3"
   },
   "outputs": [],
   "source": [
    "%%pybind11\n",
    "\n",
    "double divide (int x, int y) {\n",
    "    return double(x) / double(y);\n",
    "}\n",
    "\n",
    "\n",
    "PYBIND11_MODULE(example, m) {\n",
    "    m.def(\"add\", [](int x, int y) { return x + y; });\n",
    "    m.def(\"divide\", &divide);\n",
    "}"
   ]
  },
  {
   "cell_type": "code",
   "execution_count": 4,
   "metadata": {
    "colab": {
     "base_uri": "https://localhost:8080/",
     "height": 34
    },
    "colab_type": "code",
    "id": "cEzAY_ot6QoO",
    "outputId": "4dc3e3b3-56f0-433d-8574-723a12edb8f8"
   },
   "outputs": [
    {
     "data": {
      "text/plain": [
       "9"
      ]
     },
     "execution_count": 4,
     "metadata": {},
     "output_type": "execute_result"
    }
   ],
   "source": [
    "add(1, 8)"
   ]
  },
  {
   "cell_type": "markdown",
   "metadata": {
    "colab_type": "text",
    "id": "6Mf7UiNl6axa"
   },
   "source": [
    "## Classes"
   ]
  },
  {
   "cell_type": "code",
   "execution_count": 5,
   "metadata": {
    "colab": {},
    "colab_type": "code",
    "id": "KSo4dY0G6Twk"
   },
   "outputs": [],
   "source": [
    "%%pybind11\n",
    "\n",
    "class Dataset {\n",
    "    public:\n",
    "    std::string name;\n",
    "    std::string description;\n",
    "    int dtype;\n",
    "    \n",
    "    Dataset(std::string name,\n",
    "            std::string description,\n",
    "            int dtype=0)\n",
    "      : name(name)\n",
    "      , description(description)\n",
    "      , dtype(dtype)\n",
    "    {}\n",
    "    \n",
    "    Dataset() {};\n",
    "    \n",
    "    void do_something() {\n",
    "        //code\n",
    "    }\n",
    "};\n",
    "\n",
    "PYBIND11_MODULE(example, m) {\n",
    "    py::class_<Dataset>(m, \"Dataset\")\n",
    "      .def(py::init<>())\n",
    "      .def(py::init<std::string, std::string>())\n",
    "      .def_readonly(\"name\", &Dataset::name)\n",
    "      .def_readonly(\"description\", &Dataset::description)\n",
    "      .def(\"do_something\", &Dataset::do_something);\n",
    " \n",
    "}"
   ]
  },
  {
   "cell_type": "code",
   "execution_count": 6,
   "metadata": {
    "colab": {
     "base_uri": "https://localhost:8080/",
     "height": 34
    },
    "colab_type": "code",
    "id": "5pQrk7Up-h_c",
    "outputId": "fd377cb6-3b8c-477e-c554-aa021acbbfb3"
   },
   "outputs": [
    {
     "data": {
      "text/plain": [
       "'Important data'"
      ]
     },
     "execution_count": 6,
     "metadata": {},
     "output_type": "execute_result"
    }
   ],
   "source": [
    "d = Dataset(\"Important data\", \"Acquired last year\")\n",
    "d.name"
   ]
  },
  {
   "cell_type": "markdown",
   "metadata": {
    "colab_type": "text",
    "id": "qjGfqCEKH7aQ"
   },
   "source": [
    "## Printing"
   ]
  },
  {
   "cell_type": "code",
   "execution_count": 7,
   "metadata": {
    "colab": {},
    "colab_type": "code",
    "id": "Vlc8DdqVEa6U"
   },
   "outputs": [],
   "source": [
    "%%pybind11\n",
    "#include <iostream>\n",
    "\n",
    "PYBIND11_MODULE(example, m) {\n",
    "    m.def(\"test\", []() {\n",
    "        py::print(\"test\");\n",
    "        std::cout << \"test2\\n\";\n",
    "    });\n",
    "}"
   ]
  },
  {
   "cell_type": "code",
   "execution_count": 8,
   "metadata": {
    "colab": {
     "base_uri": "https://localhost:8080/",
     "height": 34
    },
    "colab_type": "code",
    "id": "3nIRzHkMIF9M",
    "outputId": "98fc70c1-5525-45a4-9143-4d7cdb5e0e70"
   },
   "outputs": [
    {
     "name": "stdout",
     "output_type": "stream",
     "text": [
      "test\n"
     ]
    }
   ],
   "source": [
    "test()"
   ]
  },
  {
   "cell_type": "markdown",
   "metadata": {
    "colab_type": "text",
    "id": "KLhw9dseJU3B"
   },
   "source": [
    "## Args"
   ]
  },
  {
   "cell_type": "code",
   "execution_count": 9,
   "metadata": {
    "colab": {},
    "colab_type": "code",
    "id": "sJZzQ8oqIHr3"
   },
   "outputs": [],
   "source": [
    "%%pybind11\n",
    "\n",
    "PYBIND11_MODULE(example, m) {\n",
    "    m.def(\"args\", [](py::args args, py::kwargs kwargs) {\n",
    "        py::print(args, kwargs);\n",
    "    });\n",
    "}"
   ]
  },
  {
   "cell_type": "code",
   "execution_count": 10,
   "metadata": {
    "colab": {
     "base_uri": "https://localhost:8080/",
     "height": 34
    },
    "colab_type": "code",
    "id": "31OQuRT_J8ls",
    "outputId": "22c420a7-5fa3-45c4-bf49-29889aaf7a5f"
   },
   "outputs": [
    {
     "name": "stdout",
     "output_type": "stream",
     "text": [
      "(1, 2, 3, 4) {'test': 'test', 'kw': 32}\n"
     ]
    }
   ],
   "source": [
    "args(1, 2, 3, 4, test=\"test\", kw=32)"
   ]
  },
  {
   "cell_type": "markdown",
   "metadata": {
    "colab_type": "text",
    "id": "rtWRLm7B2vWK"
   },
   "source": [
    "## List"
   ]
  },
  {
   "cell_type": "code",
   "execution_count": 11,
   "metadata": {
    "colab": {},
    "colab_type": "code",
    "id": "9dM25VY_2uYm"
   },
   "outputs": [],
   "source": [
    "%%pybind11\n",
    "\n",
    "PYBIND11_MODULE(example, m) {\n",
    "    m.def(\"makelist\", []() {\n",
    "        auto mylist = py::list();\n",
    "        mylist.append(\"laal\");\n",
    "        mylist.append(\"test\");\n",
    "        mylist.append(\"yes\");\n",
    "        py::print(mylist);\n",
    "    });\n",
    "}"
   ]
  },
  {
   "cell_type": "code",
   "execution_count": 12,
   "metadata": {
    "colab": {
     "base_uri": "https://localhost:8080/",
     "height": 34
    },
    "colab_type": "code",
    "id": "JbB25_053HnD",
    "outputId": "b515acb0-87d6-4274-f70c-4edac5d68c1f"
   },
   "outputs": [
    {
     "name": "stdout",
     "output_type": "stream",
     "text": [
      "['laal', 'test', 'yes']\n"
     ]
    }
   ],
   "source": [
    "makelist()"
   ]
  }
 ],
 "metadata": {
  "colab": {
   "collapsed_sections": [],
   "name": "python_cpp.ipynb",
   "provenance": [],
   "version": "0.3.2"
  },
  "kernelspec": {
   "display_name": "Python 3",
   "language": "python",
   "name": "python3"
  },
  "language_info": {
   "codemirror_mode": {
    "name": "ipython",
    "version": 3
   },
   "file_extension": ".py",
   "mimetype": "text/x-python",
   "name": "python",
   "nbconvert_exporter": "python",
   "pygments_lexer": "ipython3",
   "version": "3.6.5"
  }
 },
 "nbformat": 4,
 "nbformat_minor": 1
}
